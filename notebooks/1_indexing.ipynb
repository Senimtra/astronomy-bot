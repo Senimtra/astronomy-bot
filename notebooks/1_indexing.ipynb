{
 "cells": [
  {
   "cell_type": "markdown",
   "metadata": {},
   "source": [
    "# Indexing"
   ]
  },
  {
   "cell_type": "markdown",
   "metadata": {},
   "source": [
    "#### Imports"
   ]
  },
  {
   "cell_type": "code",
   "execution_count": 1,
   "metadata": {},
   "outputs": [],
   "source": [
    "import re\n",
    "import json\n",
    "import subprocess\n",
    "\n",
    "from langchain_openai import OpenAIEmbeddings\n",
    "from langchain_chroma import Chroma\n",
    "\n",
    "from langchain.text_splitter import RecursiveCharacterTextSplitter\n",
    "\n",
    "from youtube_transcript_api import YouTubeTranscriptApi"
   ]
  },
  {
   "cell_type": "markdown",
   "metadata": {},
   "source": [
    "#### Components"
   ]
  },
  {
   "cell_type": "code",
   "execution_count": 2,
   "metadata": {},
   "outputs": [],
   "source": [
    "# Embeddings Model\n",
    "embeddings = OpenAIEmbeddings(model = 'text-embedding-3-large')\n",
    "\n",
    "# Vector Store\n",
    "vector_store = Chroma(\n",
    "    persist_directory = '../chroma_db',\n",
    "    embedding_function = embeddings\n",
    ")"
   ]
  },
  {
   "cell_type": "markdown",
   "metadata": {},
   "source": [
    "#### Fetch Youtube Transcripts"
   ]
  },
  {
   "cell_type": "code",
   "execution_count": 3,
   "metadata": {},
   "outputs": [],
   "source": [
    "# Youtube Video URLs\n",
    "\n",
    "video_urls = ['https://youtu.be/0rHUDWjR5gg', 'https://youtu.be/L-Wtlev6suc', 'https://youtu.be/01QWC-rZcfE', \n",
    "              'https://youtu.be/AQ5vty8f9Xc', 'https://youtu.be/PRgua7xceDA', 'https://youtu.be/mYhy7eaazIk', \n",
    "              'https://youtu.be/TRAbZxQHlVw', 'https://youtu.be/KlWpFLfLFBI', 'https://youtu.be/TKM0P3XlMNA', \n",
    "              'https://youtu.be/b22HKFMIfWo', 'https://youtu.be/w-9gDALvMF4', 'https://youtu.be/mCzchPx3yF8', \n",
    "              'https://youtu.be/P3GkZe3nRQ0', 'https://youtu.be/ZFUgy3crCYY', 'https://youtu.be/I-88YWx71gE', \n",
    "              'https://youtu.be/Xwn8fQSW7-8', 'https://youtu.be/HaFaf7vbgpE', 'https://youtu.be/E8GNde5nCSg', \n",
    "              'https://youtu.be/1hIwD17Crko', 'https://youtu.be/auxpcdQimCs', 'https://youtu.be/yB9HHyPpKds', \n",
    "              'https://youtu.be/ZJscxTyI__s', 'https://youtu.be/TuDfZ2Md5x8', 'https://youtu.be/jjy-eqWM38g', \n",
    "              'https://youtu.be/CWMh61yutjU', 'https://youtu.be/ld75W1dz-h0', 'https://youtu.be/7ATtD8x7vV0', \n",
    "              'https://youtu.be/4zKVx29_A1w', 'https://youtu.be/jfvMtCHv1q4', 'https://youtu.be/Mj06h8BeeOA', \n",
    "              'https://youtu.be/PWx9DurgPn8', 'https://youtu.be/RrMvUL8HFlM', 'https://youtu.be/qZWPBKULkdQ', \n",
    "              'https://youtu.be/pIFiCLhJmig', 'https://youtu.be/an4rgJ3O21A', 'https://youtu.be/W8UI7F43_Yk', \n",
    "              'https://youtu.be/tj_QPnO8vpQ', 'https://youtu.be/I82ADyJC7wE', 'https://youtu.be/_O2sg-PGhEg', \n",
    "              'https://youtu.be/Z2zA9nPFN5A', 'https://youtu.be/9W3RsaWuCuE', 'https://youtu.be/9B7Ix2VQEGo', \n",
    "              'https://youtu.be/gzLM6ltw3l0', 'https://youtu.be/IGCVTSQw7WU', 'https://youtu.be/jDF-N3A60DE', \n",
    "              'https://youtu.be/mgdq6DOTU3M', 'https://youtu.be/0ytyMKa8aps']"
   ]
  },
  {
   "cell_type": "code",
   "execution_count": 4,
   "metadata": {},
   "outputs": [],
   "source": [
    "# Extract Youtube Video IDs\n",
    "\n",
    "def extract_video_id(url):\n",
    "    \"\"\"Extracts the video ID from the YouTube URL\"\"\"\n",
    "    pattern = r\"youtu.be/([^?&]+)\"\n",
    "    match = re.search(pattern, url)\n",
    "    return match[1]\n",
    "\n",
    "video_ids = [extract_video_id(url) for url in video_urls]"
   ]
  },
  {
   "cell_type": "code",
   "execution_count": 5,
   "metadata": {},
   "outputs": [],
   "source": [
    "# Extract Youtube Video Titles\n",
    "\n",
    "def extract_video_title(url):\n",
    "    \"\"\"Extracts the title of the YouTube video\"\"\"\n",
    "    command = ['yt-dlp', '--print-json', '--skip-download', url]\n",
    "    result = subprocess.run(command, capture_output = True, text = True)\n",
    "    video_info = json.loads(result.stdout).get('title')\n",
    "    title = re.match(r\"^[^:]+\", video_info)\n",
    "    return title.group()\n",
    "\n",
    "video_titles = [extract_video_title(url) for url in video_urls]"
   ]
  },
  {
   "cell_type": "code",
   "execution_count": 6,
   "metadata": {},
   "outputs": [],
   "source": [
    "# Fetch Youtube Video Transcripts\n",
    "\n",
    "def get_youtube_transcript(video_id):\n",
    "    \"\"\"Fetches the transcript for the video.\"\"\"\n",
    "    transcript = YouTubeTranscriptApi.get_transcript(video_id, languages = ['en'])\n",
    "    full_transcript = ' '.join([entry['text'] for entry in transcript])\n",
    "    return full_transcript\n",
    "\n",
    "video_transcripts = []\n",
    "\n",
    "for video_id in video_ids:\n",
    "    transcript = ' '.join(get_youtube_transcript(video_id).splitlines())\n",
    "    video_transcripts.append(transcript)"
   ]
  },
  {
   "cell_type": "markdown",
   "metadata": {},
   "source": [
    "#### Splitting documents"
   ]
  },
  {
   "cell_type": "code",
   "execution_count": 7,
   "metadata": {},
   "outputs": [],
   "source": [
    "# Corpus Initialization\n",
    "\n",
    "corpus = []\n",
    "\n",
    "for i in range(len(video_urls)):\n",
    "    corpus.append({'id': i+1, 'title': video_titles[i], 'text': video_transcripts[i]})"
   ]
  },
  {
   "cell_type": "code",
   "execution_count": 8,
   "metadata": {},
   "outputs": [],
   "source": [
    "# Splitting texts into chunks\n",
    "\n",
    "splitter = RecursiveCharacterTextSplitter(\n",
    "    chunk_size = 500,\n",
    "    chunk_overlap = 100\n",
    ")\n",
    "\n",
    "split_corpus = []\n",
    "\n",
    "for doc in corpus:\n",
    "    chunks = splitter.split_text(doc['text'])\n",
    "    for idx, chunk in enumerate(chunks):\n",
    "        split_corpus.append({\n",
    "            'id': f\"{doc['id']}-{idx+1}\",\n",
    "            'title': doc['title'],\n",
    "            'text': chunk\n",
    "        })"
   ]
  },
  {
   "cell_type": "code",
   "execution_count": null,
   "metadata": {},
   "outputs": [],
   "source": [
    "print(split_corpus[0])"
   ]
  },
  {
   "cell_type": "code",
   "execution_count": null,
   "metadata": {},
   "outputs": [],
   "source": [
    "print(split_corpus[-1])"
   ]
  },
  {
   "cell_type": "code",
   "execution_count": null,
   "metadata": {},
   "outputs": [],
   "source": [
    "len(split_corpus)"
   ]
  },
  {
   "cell_type": "markdown",
   "metadata": {},
   "source": [
    "#### Embed & Store in ChromaDB"
   ]
  },
  {
   "cell_type": "code",
   "execution_count": null,
   "metadata": {},
   "outputs": [],
   "source": [
    "# Prepare lists for batch insertion\n",
    "texts = [doc['text'] for doc in split_corpus]\n",
    "metadatas = [{'title': doc['title']} for doc in split_corpus]\n",
    "ids = [str(doc['id']) for doc in split_corpus]\n",
    "\n",
    "# Store in ChromaDB (auto-generate embeddings)\n",
    "vector_store.add_texts(\n",
    "    texts = texts,\n",
    "    metadatas = metadatas,\n",
    "    ids = ids\n",
    ")\n",
    "\n",
    "print(f\"✅ Successfully stored {len(split_corpus)} documents in ChromaDB with embeddings!\")"
   ]
  },
  {
   "cell_type": "markdown",
   "metadata": {},
   "source": [
    "#### Confirm Storage"
   ]
  },
  {
   "cell_type": "code",
   "execution_count": null,
   "metadata": {},
   "outputs": [],
   "source": [
    "# Retrieve stored data\n",
    "stored_data = vector_store._collection.get(include = ['metadatas', 'documents', 'embeddings'])\n",
    "\n",
    "# Extract ids, titles, texts, embeddings\n",
    "ids = stored_data.get('ids')\n",
    "titles = stored_data.get('metadatas')\n",
    "texts = stored_data.get('documents')\n",
    "embeddings = stored_data.get('embeddings')\n",
    "\n",
    "for i in range(3):\n",
    "    print(f\"ID: {ids[i]}\")\n",
    "    print(f\"Title: {titles[i].get('title')}\")\n",
    "    print(f\"Text: {texts[i]}\")\n",
    "    print(f\"Embedding: {embeddings[i]}\\n\")"
   ]
  }
 ],
 "metadata": {
  "kernelspec": {
   "display_name": "Python 3",
   "language": "python",
   "name": "python3"
  },
  "language_info": {
   "codemirror_mode": {
    "name": "ipython",
    "version": 3
   },
   "file_extension": ".py",
   "mimetype": "text/x-python",
   "name": "python",
   "nbconvert_exporter": "python",
   "pygments_lexer": "ipython3",
   "version": "3.12.8"
  }
 },
 "nbformat": 4,
 "nbformat_minor": 2
}
